{
 "cells": [
  {
   "cell_type": "markdown",
   "metadata": {},
   "source": [
    "# CSCI 6515 Final Project\n",
    "## Model and Evaluation Component\n",
    "## Noah Sealy, B00726289"
   ]
  },
  {
   "cell_type": "markdown",
   "metadata": {},
   "source": [
    "# Imports"
   ]
  },
  {
   "cell_type": "code",
   "execution_count": 1,
   "metadata": {},
   "outputs": [],
   "source": [
    "# reading data\n",
    "import dask.dataframe as dd\n",
    "import pandas as pd\n",
    "import matplotlib.pyplot as plt\n",
    "import numpy as np\n",
    "\n",
    "# preprocessing\n",
    "import nltk\n",
    "from nltk.stem import WordNetLemmatizer \n",
    "import dask_ml.feature_extraction.text\n",
    "from sklearn.feature_extraction.text import TfidfVectorizer\n",
    "\n",
    "# model\n",
    "from sklearn.model_selection import train_test_split\n",
    "from sklearn.datasets import make_classification\n",
    "from dask.distributed import Client\n",
    "import joblib\n",
    "from sklearn.datasets import load_digits\n",
    "from sklearn.model_selection import RandomizedSearchCV\n",
    "from sklearn.svm import SVC\n",
    "from sklearn.model_selection import GridSearchCV\n",
    "\n",
    "# evaluation\n",
    "from sklearn.metrics import accuracy_score, recall_score, precision_score, f1_score\n",
    "from sklearn.metrics import confusion_matrix"
   ]
  },
  {
   "cell_type": "code",
   "execution_count": 2,
   "metadata": {},
   "outputs": [],
   "source": [
    "# use dask to read data file\n",
    "df = dd.read_csv('dash-app/Hotel_Reviews.csv')"
   ]
  },
  {
   "cell_type": "markdown",
   "metadata": {},
   "source": [
    "# Data Investigation\n",
    "## This section does not require execution if you are just trying to run the model\n",
    "## In that case, you can skip to the Data Preprocessing section"
   ]
  },
  {
   "cell_type": "code",
   "execution_count": 3,
   "metadata": {},
   "outputs": [
    {
     "name": "stdout",
     "output_type": "stream",
     "text": [
      "Index(['Hotel_Address', 'Additional_Number_of_Scoring', 'Review_Date',\n",
      "       'Average_Score', 'Hotel_Name', 'Reviewer_Nationality',\n",
      "       'Negative_Review', 'Review_Total_Negative_Word_Counts',\n",
      "       'Total_Number_of_Reviews', 'Positive_Review',\n",
      "       'Review_Total_Positive_Word_Counts',\n",
      "       'Total_Number_of_Reviews_Reviewer_Has_Given', 'Reviewer_Score', 'Tags',\n",
      "       'days_since_review', 'lat', 'lng'],\n",
      "      dtype='object')\n"
     ]
    }
   ],
   "source": [
    "# shows the available data columns of the Hotel Review data set\n",
    "print(df.columns)"
   ]
  },
  {
   "cell_type": "code",
   "execution_count": 4,
   "metadata": {},
   "outputs": [
    {
     "name": "stdout",
     "output_type": "stream",
     "text": [
      "0    2.9\n",
      "1    7.5\n",
      "2    7.1\n",
      "3    3.8\n",
      "4    6.7\n",
      "Name: Reviewer_Score, dtype: float64\n"
     ]
    }
   ],
   "source": [
    "# example of review scores\n",
    "print(df['Reviewer_Score'].head())"
   ]
  },
  {
   "cell_type": "code",
   "execution_count": 5,
   "metadata": {},
   "outputs": [
    {
     "name": "stdout",
     "output_type": "stream",
     "text": [
      "0    7.7\n",
      "1    7.7\n",
      "2    7.7\n",
      "3    7.7\n",
      "4    7.7\n",
      "Name: Average_Score, dtype: float64\n"
     ]
    }
   ],
   "source": [
    "# example of average hotel score\n",
    "# the data printed is probably all from the same hotel, thus they have the same average hotel score\n",
    "print(df['Average_Score'].head())"
   ]
  },
  {
   "cell_type": "code",
   "execution_count": 6,
   "metadata": {},
   "outputs": [],
   "source": [
    "# calculate the hotel average score as well as the average review score for each hotel\n",
    "# this data will represent the hotel average score and average review score pairs\n",
    "av_scores = df.groupby('Hotel_Name').Reviewer_Score.agg(['mean', 'count'])\n",
    "hotel_scores = df.groupby('Hotel_Name').Average_Score.agg(['mean', 'count'])"
   ]
  },
  {
   "cell_type": "code",
   "execution_count": 7,
   "metadata": {},
   "outputs": [
    {
     "name": "stdout",
     "output_type": "stream",
     "text": [
      "                                 mean  count\n",
      "Hotel_Name                                  \n",
      "11 Cadogan Gardens           8.845283    159\n",
      "1K Hotel                     7.861486    148\n",
      "Ace Hotel London Shoreditch  8.683074    514\n",
      "Amarante Champs Elys es      7.620588    102\n",
      "Ambassadors Bloomsbury       7.845833    768\n",
      "                             mean  count\n",
      "Hotel_Name                              \n",
      "11 Cadogan Gardens            8.7    159\n",
      "1K Hotel                      7.7    148\n",
      "Ace Hotel London Shoreditch   8.6    514\n",
      "Amarante Champs Elys es       7.7    102\n",
      "Ambassadors Bloomsbury        7.9    768\n"
     ]
    }
   ],
   "source": [
    "av_scores.compute()\n",
    "print(av_scores.head())\n",
    "hotel_scores.compute()\n",
    "print(hotel_scores.head())"
   ]
  },
  {
   "cell_type": "code",
   "execution_count": 8,
   "metadata": {},
   "outputs": [
    {
     "name": "stderr",
     "output_type": "stream",
     "text": [
      "/opt/anaconda3/lib/python3.8/site-packages/dask/dataframe/multi.py:1094: UserWarning: Concatenating dataframes with unknown divisions.\n",
      "We're assuming that the indexes of each dataframes are \n",
      " aligned. This assumption is not generally safe.\n",
      "  warnings.warn(\n"
     ]
    }
   ],
   "source": [
    "# calculate correlation between the hotel average score and average review score pairs\n",
    "# disregard the warning, as the data is all coming from the same place, it is safe\n",
    "corr = av_scores['mean'].corr(hotel_scores['mean'])"
   ]
  },
  {
   "cell_type": "code",
   "execution_count": 9,
   "metadata": {},
   "outputs": [
    {
     "name": "stdout",
     "output_type": "stream",
     "text": [
      "0.963595031796609\n"
     ]
    }
   ],
   "source": [
    "# calculate correlation between the hotel average score and average review score pairs\n",
    "cor = corr.compute()\n",
    "print(cor)"
   ]
  },
  {
   "cell_type": "code",
   "execution_count": 10,
   "metadata": {},
   "outputs": [
    {
     "data": {
      "image/png": "[encoded data removed]",
      "text/plain": [
       "<Figure size 432x288 with 1 Axes>"
      ]
     },
     "metadata": {
      "needs_background": "light"
     },
     "output_type": "display_data"
    }
   ],
   "source": [
    "# this will map each hotel average score and average review score pair\n",
    "# some of this code was retrived from the stack overflow answer post as shown below\n",
    "# https://stackoverflow.com/a/26447505/12617155\n",
    "# this plot uses matplotlib\n",
    "fig, ax = plt.subplots()\n",
    "\n",
    "x = av_scores['mean'].compute()\n",
    "y = hotel_scores['mean'].compute()\n",
    "\n",
    "# red line to further show linear correlation\n",
    "z = np.polyfit(x, y, 1)\n",
    "p = np.poly1d(z)\n",
    "plt.plot(x, p(x), \"r--\")\n",
    "\n",
    "# plot\n",
    "ax.scatter(x, y)\n",
    "ax.set(xlabel='Average User Score', \n",
    "       ylabel='Average Hotel Score',\n",
    "       title='Hotel Score Data Representation')\n",
    "plt.show()"
   ]
  },
  {
   "cell_type": "markdown",
   "metadata": {},
   "source": [
    "# Data Preprocessing"
   ]
  },
  {
   "cell_type": "code",
   "execution_count": 11,
   "metadata": {},
   "outputs": [
    {
     "name": "stdout",
     "output_type": "stream",
     "text": [
      "0    2.9\n",
      "1    7.5\n",
      "2    7.1\n",
      "3    3.8\n",
      "4    6.7\n",
      "Name: Reviewer_Score, dtype: float64\n",
      "0    0\n",
      "1    1\n",
      "2    1\n",
      "3    0\n",
      "4    1\n",
      "Name: Polarity, dtype: int64\n"
     ]
    }
   ],
   "source": [
    "# assign Negative polarity to reviews with a review score lower than 5, depicted as 0\n",
    "# assign Positive polarity to reviews with a review score greater or equal to 5, depicted as 1\n",
    "df['Polarity'] = 0\n",
    "df['Polarity'] = df['Polarity'].mask(df['Reviewer_Score'] < 5, 0)\n",
    "df['Polarity'] = df['Polarity'].mask(df['Reviewer_Score'] >= 5, 1)\n",
    "print(df['Reviewer_Score'].head())\n",
    "print(df['Polarity'].head())"
   ]
  },
  {
   "cell_type": "code",
   "execution_count": 12,
   "metadata": {},
   "outputs": [
    {
     "name": "stdout",
     "output_type": "stream",
     "text": [
      "                                        Hotel_Address  \\\n",
      "0    s Gravesandestraat 55 Oost 1092 AA Amsterdam ...   \n",
      "3    s Gravesandestraat 55 Oost 1092 AA Amsterdam ...   \n",
      "6    s Gravesandestraat 55 Oost 1092 AA Amsterdam ...   \n",
      "12   s Gravesandestraat 55 Oost 1092 AA Amsterdam ...   \n",
      "21   s Gravesandestraat 55 Oost 1092 AA Amsterdam ...   \n",
      "\n",
      "    Additional_Number_of_Scoring Review_Date  Average_Score   Hotel_Name  \\\n",
      "0                            194    8/3/2017            7.7  Hotel Arena   \n",
      "3                            194   7/31/2017            7.7  Hotel Arena   \n",
      "6                            194   7/17/2017            7.7  Hotel Arena   \n",
      "12                           194    7/6/2017            7.7  Hotel Arena   \n",
      "21                           194   6/12/2017            7.7  Hotel Arena   \n",
      "\n",
      "   Reviewer_Nationality                                    Negative_Review  \\\n",
      "0               Russia    I am so angry that i made this post available...   \n",
      "3       United Kingdom    My room was dirty and I was afraid to walk ba...   \n",
      "6       United Kingdom    Cleaner did not change our sheet and duvet ev...   \n",
      "12      United Kingdom    The floor in my room was filfy dirty Very bas...   \n",
      "21              France    Our room was an overrated disaster room 231 d...   \n",
      "\n",
      "    Review_Total_Negative_Word_Counts  Total_Number_of_Reviews  \\\n",
      "0                                 397                     1403   \n",
      "3                                 210                     1403   \n",
      "6                                  33                     1403   \n",
      "12                                 28                     1403   \n",
      "21                                 92                     1403   \n",
      "\n",
      "                                      Positive_Review  \\\n",
      "0    Only the park outside of the hotel was beauti...   \n",
      "3    Great location in nice surroundings the bar a...   \n",
      "6    The room is spacious and bright The hotel is ...   \n",
      "12                           Comfy bed good location    \n",
      "21   The breakfast was the only positive element o...   \n",
      "\n",
      "    Review_Total_Positive_Word_Counts  \\\n",
      "0                                  11   \n",
      "3                                  26   \n",
      "6                                  18   \n",
      "12                                  6   \n",
      "21                                 75   \n",
      "\n",
      "    Total_Number_of_Reviews_Reviewer_Has_Given  Reviewer_Score  \\\n",
      "0                                            7             2.9   \n",
      "3                                            1             3.8   \n",
      "6                                            6             4.6   \n",
      "12                                           7             4.6   \n",
      "21                                          12             3.8   \n",
      "\n",
      "                                                 Tags days_since_review  \\\n",
      "0   [' Leisure trip ', ' Couple ', ' Duplex Double...            0 days   \n",
      "3   [' Leisure trip ', ' Solo traveler ', ' Duplex...            3 days   \n",
      "6   [' Leisure trip ', ' Group ', ' Duplex Twin Ro...           17 days   \n",
      "12  [' Leisure trip ', ' Solo traveler ', ' Duplex...           28 days   \n",
      "21  [' Couple ', ' Duplex Double Room ', ' Stayed ...           52 days   \n",
      "\n",
      "          lat       lng  Polarity  \n",
      "0   52.360576  4.915968         0  \n",
      "3   52.360576  4.915968         0  \n",
      "6   52.360576  4.915968         0  \n",
      "12  52.360576  4.915968         0  \n",
      "21  52.360576  4.915968         0  \n"
     ]
    }
   ],
   "source": [
    "# balance the data set\n",
    "# select data from march of 2017, or with a polarity of 0\n",
    "# this will leave use with ~20k positive reviews and ~20k negative\n",
    "month = 3\n",
    "year = 2017\n",
    "df = df[(df['Review_Date'].str.match(str(month) + '/' + r'[\\d]{1,2}' + '/' + str(year))) | (df['Polarity'] == 0)]\n",
    "\n",
    "count = 0\n",
    "for looking in df['Polarity']:\n",
    "    count += 1\n",
    "\n",
    "print(df.head())"
   ]
  },
  {
   "cell_type": "code",
   "execution_count": 13,
   "metadata": {},
   "outputs": [
    {
     "name": "stdout",
     "output_type": "stream",
     "text": [
      "Total Reviews Reviews: 41833\n",
      "Positive Reviews: 19552\n",
      "Negative Reviews: 22281\n"
     ]
    }
   ],
   "source": [
    "# analyze the counts of the balanced data set\n",
    "zeros = 0\n",
    "ones = 0\n",
    "size = 0\n",
    "for looking in df['Polarity']:\n",
    "    if looking == 0:\n",
    "        zeros += 1\n",
    "    else:\n",
    "        ones += 1\n",
    "    size += 1\n",
    "\n",
    "print('Total Reviews Reviews: ' + str(size))\n",
    "print('Positive Reviews: ' + str(ones))\n",
    "print('Negative Reviews: ' + str(zeros))"
   ]
  },
  {
   "cell_type": "code",
   "execution_count": 14,
   "metadata": {},
   "outputs": [],
   "source": [
    "# combine the negative and positive text reviews\n",
    "# if a text review is not there, ignore it\n",
    "df['Full_Text'] = \"\"\n",
    "# remove the No Negative and No Positive from review text, as that will just add bad noise to the data\n",
    "df['Full_Text'] = df['Full_Text'].mask(df['Negative_Review'] == 'No Negative', df['Positive_Review'])\n",
    "df['Full_Text'] = df['Full_Text'].mask(df['Positive_Review'] == 'No Positive', df['Negative_Review'])\n",
    "df['Full_Text'] = df['Full_Text'].mask(df['Full_Text'] == \"\", df['Positive_Review'] + df['Negative_Review'])"
   ]
  },
  {
   "cell_type": "code",
   "execution_count": 15,
   "metadata": {},
   "outputs": [
    {
     "name": "stdout",
     "output_type": "stream",
     "text": [
      "0      Only the park outside of the hotel was beauti...\n",
      "3      Great location in nice surroundings the bar a...\n",
      "6      The room is spacious and bright The hotel is ...\n",
      "12                             Comfy bed good location \n",
      "21     The breakfast was the only positive element o...\n",
      "Name: Positive_Review, dtype: object\n",
      " \n",
      "0      I am so angry that i made this post available...\n",
      "3      My room was dirty and I was afraid to walk ba...\n",
      "6      Cleaner did not change our sheet and duvet ev...\n",
      "12     The floor in my room was filfy dirty Very bas...\n",
      "21     Our room was an overrated disaster room 231 d...\n",
      "Name: Negative_Review, dtype: object\n",
      " \n",
      "0      Only the park outside of the hotel was beauti...\n",
      "3      Great location in nice surroundings the bar a...\n",
      "6      The room is spacious and bright The hotel is ...\n",
      "12     Comfy bed good location  The floor in my room...\n",
      "21     The breakfast was the only positive element o...\n",
      "Name: Full_Text, dtype: object\n"
     ]
    }
   ],
   "source": [
    "# an example of the above combination\n",
    "print(df['Positive_Review'].head())\n",
    "print(\" \")\n",
    "print(df['Negative_Review'].head())\n",
    "print(\" \")\n",
    "print(df['Full_Text'].head())"
   ]
  },
  {
   "cell_type": "code",
   "execution_count": 16,
   "metadata": {},
   "outputs": [],
   "source": [
    "# function to remove stop words, lemmatize words, and convert them to lower case\n",
    "stop_words = set(nltk.corpus.stopwords.words('english'))\n",
    "lemmatizer = WordNetLemmatizer() \n",
    "\n",
    "def remove_stop_lemmatize(text):\n",
    "    text = text.split(' ')\n",
    "    return ' '.join(lemmatizer.lemmatize(word.lower()) for word in text if word.lower() not in stop_words)"
   ]
  },
  {
   "cell_type": "code",
   "execution_count": 17,
   "metadata": {},
   "outputs": [
    {
     "name": "stdout",
     "output_type": "stream",
     "text": [
      "real complaint hotel great great location surroundings room amenity service two recommendation however firstly staff upon check confusing regarding deposit payment staff offer upon checkout refund original payment make new one bit confusing secondly site restaurant bit lacking well thought excellent quality food anyone vegetarian vegan background even wrap toasted sandwich option would great aside minor minor thing fantastic spot back return amsterdam \n"
     ]
    }
   ],
   "source": [
    "# test it out\n",
    "check = 'No real complaints the hotel was great great location surroundings rooms amenities and service Two recommendations however firstly the staff upon check in are very confusing regarding deposit payments and the staff offer you upon checkout to refund your original payment and you can make a new one Bit confusing Secondly the on site restaurant is a bit lacking very well thought out and excellent quality food for anyone of a vegetarian or vegan background but even a wrap or toasted sandwich option would be great Aside from those minor minor things fantastic spot and will be back when i return to Amsterdam '\n",
    "check = remove_stop_lemmatize(check)\n",
    "print(check)"
   ]
  },
  {
   "cell_type": "code",
   "execution_count": 18,
   "metadata": {},
   "outputs": [],
   "source": [
    "# function to apply the remove_stop_lemmatize function to a whole dataframe\n",
    "def clean_text (df):\n",
    "    df['Processed_Full'] = df.Full_Text.map(lambda text:text).map(remove_stop_lemmatize)\n",
    "    return df"
   ]
  },
  {
   "cell_type": "code",
   "execution_count": 19,
   "metadata": {},
   "outputs": [],
   "source": [
    "# intialize the column\n",
    "df['Processed_Full'] = ''"
   ]
  },
  {
   "cell_type": "code",
   "execution_count": 20,
   "metadata": {},
   "outputs": [],
   "source": [
    "# apply the clean_text function to each partition of the data frame\n",
    "# thus, the combined text will be preprocessed!\n",
    "result = df.map_partitions(clean_text, meta=df)\n",
    "df = result.compute()"
   ]
  },
  {
   "cell_type": "code",
   "execution_count": 21,
   "metadata": {},
   "outputs": [
    {
     "name": "stdout",
     "output_type": "stream",
     "text": [
      "0      park outside hotel beautiful  angry made post...\n",
      "3      great location nice surroundings bar restaura...\n",
      "6      room spacious bright hotel located quiet beau...\n",
      "12     comfy bed good location  floor room filfy dir...\n",
      "21     breakfast positive element hotel original tas...\n",
      "Name: Processed_Full, dtype: object\n"
     ]
    }
   ],
   "source": [
    "# example of the preprocossed text\n",
    "print(df['Processed_Full'].head())"
   ]
  },
  {
   "cell_type": "markdown",
   "metadata": {},
   "source": [
    "# Model Training"
   ]
  },
  {
   "cell_type": "code",
   "execution_count": 22,
   "metadata": {},
   "outputs": [],
   "source": [
    "# convert the processed text data into word vectors\n",
    "vectorizer = TfidfVectorizer(min_df = 5,\n",
    "                             max_df = 0.8,\n",
    "                             sublinear_tf = True,\n",
    "                             use_idf = True)\n",
    "\n",
    "vectors = vectorizer.fit_transform(df['Processed_Full'])"
   ]
  },
  {
   "cell_type": "code",
   "execution_count": 23,
   "metadata": {},
   "outputs": [],
   "source": [
    "# throw these word vectors into the data frame\n",
    "df['Text_Vectors'] = vectors"
   ]
  },
  {
   "cell_type": "code",
   "execution_count": 24,
   "metadata": {},
   "outputs": [],
   "source": [
    "# the input text values are now ready for the model\n",
    "# the labels to the input text is the polarity of the review\n",
    "X = vectors\n",
    "y = df['Polarity']"
   ]
  },
  {
   "cell_type": "code",
   "execution_count": 25,
   "metadata": {},
   "outputs": [],
   "source": [
    "# set up grid search for training\n",
    "# this will train the support vector machine, with the given hyperparameters, and return the best\n",
    "param_grid = {\"C\": [0.01, 0.1, 1, 5],\n",
    "              \"kernel\": ['linear'],\n",
    "              \"shrinking\": [True, False]}\n",
    "\n",
    "grid_search = GridSearchCV(SVC(gamma='auto', random_state=0, probability=False),\n",
    "                           param_grid=param_grid,\n",
    "                           return_train_score=False,\n",
    "                           iid=True,\n",
    "                           cv=3,\n",
    "                           n_jobs=-1)"
   ]
  },
  {
   "cell_type": "code",
   "execution_count": 26,
   "metadata": {},
   "outputs": [],
   "source": [
    "# split the data into training and testing sets\n",
    "# the testing set will have 30% of the data\n",
    "X_train, X_test, y_train, y_test = train_test_split(X, y, test_size=0.30, random_state=0)"
   ]
  },
  {
   "cell_type": "code",
   "execution_count": 27,
   "metadata": {},
   "outputs": [],
   "source": [
    "# set up the joblib client\n",
    "client = Client() "
   ]
  },
  {
   "cell_type": "code",
   "execution_count": 28,
   "metadata": {},
   "outputs": [
    {
     "name": "stderr",
     "output_type": "stream",
     "text": [
      "/opt/anaconda3/lib/python3.8/site-packages/sklearn/model_selection/_search.py:847: FutureWarning: The parameter 'iid' is deprecated in 0.22 and will be removed in 0.24.\n",
      "  warnings.warn(\n"
     ]
    }
   ],
   "source": [
    "# using joblib parrallelization, execute the grid search training\n",
    "with joblib.parallel_backend('dask'):\n",
    "    grid_search.fit(X_train, y_train)"
   ]
  },
  {
   "cell_type": "markdown",
   "metadata": {},
   "source": [
    "# Model Evaluation"
   ]
  },
  {
   "cell_type": "code",
   "execution_count": 29,
   "metadata": {},
   "outputs": [
    {
     "name": "stdout",
     "output_type": "stream",
     "text": [
      "   mean_fit_time  std_fit_time  mean_score_time  std_score_time param_C  \\\n",
      "0     101.726224      1.945826        42.325075        0.546003    0.01   \n",
      "1      92.431201      1.451605        42.278900        0.201165    0.01   \n",
      "2      65.057794      0.236189        27.166294        0.119313     0.1   \n",
      "3      61.123675      0.268929        27.189791        0.240826     0.1   \n",
      "4      55.615300      0.643545        19.648606        0.133778       1   \n",
      "5      59.143214      0.884248        19.972596        0.378266       1   \n",
      "6     126.988443      2.302418        17.840719        0.432418       5   \n",
      "7     135.569305     16.785944        11.759765        1.571987       5   \n",
      "\n",
      "  param_kernel param_shrinking  \\\n",
      "0       linear            True   \n",
      "1       linear           False   \n",
      "2       linear            True   \n",
      "3       linear           False   \n",
      "4       linear            True   \n",
      "5       linear           False   \n",
      "6       linear            True   \n",
      "7       linear           False   \n",
      "\n",
      "                                              params  split0_test_score  \\\n",
      "0  {'C': 0.01, 'kernel': 'linear', 'shrinking': T...           0.752689   \n",
      "1  {'C': 0.01, 'kernel': 'linear', 'shrinking': F...           0.752689   \n",
      "2  {'C': 0.1, 'kernel': 'linear', 'shrinking': True}           0.835365   \n",
      "3  {'C': 0.1, 'kernel': 'linear', 'shrinking': Fa...           0.835365   \n",
      "4    {'C': 1, 'kernel': 'linear', 'shrinking': True}           0.835263   \n",
      "5   {'C': 1, 'kernel': 'linear', 'shrinking': False}           0.835263   \n",
      "6    {'C': 5, 'kernel': 'linear', 'shrinking': True}           0.820408   \n",
      "7   {'C': 5, 'kernel': 'linear', 'shrinking': False}           0.820510   \n",
      "\n",
      "   split1_test_score  split2_test_score  mean_test_score  std_test_score  \\\n",
      "0           0.752792           0.754431         0.753304        0.000798   \n",
      "1           0.752792           0.754431         0.753304        0.000798   \n",
      "2           0.836185           0.838951         0.836834        0.001534   \n",
      "3           0.836185           0.839053         0.836868        0.001581   \n",
      "4           0.839566           0.842024         0.838951        0.002794   \n",
      "5           0.839566           0.842024         0.838951        0.002794   \n",
      "6           0.824198           0.823686         0.822764        0.001679   \n",
      "7           0.823993           0.823686         0.822730        0.001575   \n",
      "\n",
      "   rank_test_score  \n",
      "0                7  \n",
      "1                7  \n",
      "2                4  \n",
      "3                3  \n",
      "4                1  \n",
      "5                1  \n",
      "6                5  \n",
      "7                6  \n"
     ]
    }
   ],
   "source": [
    "# put the results in a data frame\n",
    "results = pd.DataFrame(grid_search.cv_results_)\n",
    "print(results)"
   ]
  },
  {
   "cell_type": "code",
   "execution_count": 30,
   "metadata": {},
   "outputs": [],
   "source": [
    "# use the now trained model to predict the unseen test data\n",
    "y_pred = grid_search.predict(X_test)"
   ]
  },
  {
   "cell_type": "code",
   "execution_count": 31,
   "metadata": {},
   "outputs": [
    {
     "name": "stdout",
     "output_type": "stream",
     "text": [
      "Accuracy Score : 0.8359362549800797\n",
      "Precision Score : 0.8444444444444444\n",
      "Recall Score : 0.7936997089539463\n",
      "F1 Score : 0.8182861177301208\n",
      "Confusion Matrix : \n",
      "[[5855  854]\n",
      " [1205 4636]]\n"
     ]
    }
   ],
   "source": [
    "# evaluate the above predictions\n",
    "print('Accuracy Score : ' + str(accuracy_score(y_test, y_pred)))\n",
    "print('Precision Score : ' + str(precision_score(y_test, y_pred)))\n",
    "print('Recall Score : ' + str(recall_score(y_test, y_pred)))\n",
    "print('F1 Score : ' + str(f1_score(y_test, y_pred)))\n",
    "\n",
    "print('Confusion Matrix : \\n' + str(confusion_matrix(y_test, y_pred)))"
   ]
  },
  {
   "cell_type": "markdown",
   "metadata": {},
   "source": [
    "# Custom Model Input"
   ]
  },
  {
   "cell_type": "code",
   "execution_count": 39,
   "metadata": {},
   "outputs": [
    {
     "name": "stdout",
     "output_type": "stream",
     "text": [
      "Input: The service was not great\n",
      "Polarity: Positive\n"
     ]
    }
   ],
   "source": [
    "# this section provides a way to directly interact with the trained model\n",
    "# simply change input_text to see what the model predicts the polarity of the text is!\n",
    "input_text = 'The service was not great'\n",
    "pre_process = remove_stop_lemmatize(input_text)\n",
    "process = vectorizer.transform([pre_process])\n",
    "\n",
    "result = grid_search.predict(process)\n",
    "\n",
    "if result == 1:\n",
    "    print('Input: ' + input_text)\n",
    "    print('Polarity: Positive')\n",
    "else:\n",
    "    print('Input: ' + input_text)\n",
    "    print('Polarity: Negative')"
   ]
  },
  {
   "cell_type": "code",
   "execution_count": null,
   "metadata": {},
   "outputs": [],
   "source": []
  }
 ],
 "metadata": {
  "kernelspec": {
   "display_name": "Python 3",
   "language": "python",
   "name": "python3"
  },
  "language_info": {
   "codemirror_mode": {
    "name": "ipython",
    "version": 3
   },
   "file_extension": ".py",
   "mimetype": "text/x-python",
   "name": "python",
   "nbconvert_exporter": "python",
   "pygments_lexer": "ipython3",
   "version": "3.8.3"
  }
 },
 "nbformat": 4,
 "nbformat_minor": 4
}
